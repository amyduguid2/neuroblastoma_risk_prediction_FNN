{
 "cells": [
  {
   "cell_type": "code",
   "execution_count": 1,
   "id": "bde6c797-6f03-4303-a2fd-537c3635dba6",
   "metadata": {},
   "outputs": [],
   "source": [
    "#code from some of teh practicals for different libraries\n",
    "import numpy as np\n",
    "\n",
    "from sklearn.compose import ColumnTransformer\n",
    "from sklearn.datasets import fetch_openml\n",
    "from sklearn.pipeline import Pipeline\n",
    "from sklearn.impute import SimpleImputer, KNNImputer\n",
    "from sklearn.preprocessing import StandardScaler, OneHotEncoder, LabelEncoder, MinMaxScaler\n",
    "\n",
    "from sklearn import set_config\n",
    "set_config(display='diagram')\n",
    "\n",
    "import pandas as pd"
   ]
  },
  {
   "cell_type": "code",
   "execution_count": 7,
   "id": "79ec3c37-ca43-4a93-b346-71facae622cb",
   "metadata": {},
   "outputs": [],
   "source": [
    "#this section is for cleaning up FPKM data\n",
    "#sorry for using GPT but python was irritating me :(\n",
    "#setting seed and getting initial data setup\n",
    "np.random.seed(0)\n",
    "\n",
    "#might need to change the path here, depends where you saved it\n",
    "FPKMdata = pd.read_csv('/jupyter/work/module_4_machine_learning/Coursework/log2FPKM.tsv', sep='\\t')\n",
    "\n",
    "#unhash for your working directory\n",
    "#import os\n",
    "#print os.getcwd()\n",
    "\n",
    "def clean_df(df):\n",
    "    # Remove rows where all values are 0\n",
    "    df.loc[(df != 0).all(axis=1)]\n",
    "\n",
    "    #cleaning up the headers\n",
    "    df.columns = [col.split('_')[0] for col in df.columns]\n",
    "\n",
    "    # Function to count zeros in a row\n",
    "    def count_zeros(row):\n",
    "        return (row == 0).sum()\n",
    "\n",
    "    # Filter rows with <= 100 zeros\n",
    "    filtered_df = df[df.apply(count_zeros, axis=1) <= 100]\n",
    "\n",
    "\n",
    "    #columns_to_include = [col for col in df.columns if col != \"\"]\n",
    "    \n",
    "    return(filtered_df)\n",
    "\n",
    "#setting it to an output\n",
    "#press the bottom at the top right and change to tab to see the data properly\n",
    "filtered_df.to_csv('output.csv', sep='\\t', header=True, index=False, columns=columns_to_include)"
   ]
  },
  {
   "cell_type": "code",
   "execution_count": null,
   "id": "2ba64312-c550-42aa-856b-80ad256d3d66",
   "metadata": {},
   "outputs": [],
   "source": [
    "#cleaning up intensities data\n",
    "#again may need fixing for correct path, code provided above\n",
    "intensities_data = pd.read_csv('/jupyter/work/module_4_machine_learning/Coursework/allProbIntensities.tsv', sep='\\t')\n",
    "#print(intensities_data)\n",
    "\n",
    "#setting it to pandas dataframe format\n",
    "intensities_df = pd.DataFrame(intensities_data)\n",
    "intens_final = intensities_df.dropna(ignore_index=True)\n",
    "#print(intens_final)\n",
    "intens_final.to_csv('cleaned_intensities.csv', sep='\\t', header=True, index=False)"
   ]
  },
  {
   "cell_type": "code",
   "execution_count": null,
   "id": "b83b0c9e-8b43-4cd5-8e99-b4befe7c51f2",
   "metadata": {},
   "outputs": [],
   "source": []
  }
 ],
 "metadata": {
  "kernelspec": {
   "display_name": "Python 3 (ipykernel)",
   "language": "python",
   "name": "python3"
  },
  "language_info": {
   "codemirror_mode": {
    "name": "ipython",
    "version": 3
   },
   "file_extension": ".py",
   "mimetype": "text/x-python",
   "name": "python",
   "nbconvert_exporter": "python",
   "pygments_lexer": "ipython3",
   "version": "3.9.21"
  }
 },
 "nbformat": 4,
 "nbformat_minor": 5
}
